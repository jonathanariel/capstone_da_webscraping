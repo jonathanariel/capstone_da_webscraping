{
 "cells": [
  {
   "cell_type": "markdown",
   "metadata": {},
   "source": [
    "# Capstone Webscrapping using BeautifulSoup\n",
    "\n",
    "This notebook contains guidances & tasks on the data processing for the application\n",
    "\n",
    "\n",
    "## Requesting the Data and Creating a BeautifulSoup\n",
    "\n",
    "Let's begin by requesting from the site using the `get` method."
   ]
  },
  {
   "cell_type": "code",
   "execution_count": 1,
   "metadata": {
    "ExecuteTime": {
     "end_time": "2020-01-13T05:12:23.275508Z",
     "start_time": "2020-01-13T05:12:20.009898Z"
    }
   },
   "outputs": [],
   "source": [
    "import requests\n",
    "\n",
    "url_get = requests.get('https://www.imdb.com/search/title/?release_date=2021-01-01,2021-12-31')"
   ]
  },
  {
   "cell_type": "markdown",
   "metadata": {},
   "source": [
    "To visualize what exactly we get from the `request.get`, we can use the .content method to see what we extracted. We can slice it so it won't flood our screen. You can delete the slicing if you want to fully see what we get."
   ]
  },
  {
   "cell_type": "code",
   "execution_count": 2,
   "metadata": {
    "ExecuteTime": {
     "end_time": "2020-01-13T05:12:23.290648Z",
     "start_time": "2020-01-13T05:12:23.277650Z"
    }
   },
   "outputs": [
    {
     "data": {
      "text/plain": [
       "b'\\n<!DOCTYPE html>\\n<html\\n    xmlns:og=\"http://ogp.me/ns#\"\\n    xmlns:fb=\"http://www.facebook.com/2008/fbml\">\\n    <head>\\n         \\n\\n        <meta charset=\"utf-8\">\\n        <meta http-equiv=\"X-UA-Compatible\" content=\"IE=edge\">\\n\\n\\n\\n\\n        <script type=\"text/javascript\">var IMDbTimer={starttime: new Date().getTime(),pt:\\'java\\'};</script>\\n\\n<script>\\n    if (typeof uet == \\'function\\') {\\n      uet(\"bb\", \"LoadTitle\", {wb: 1});\\n    }\\n</script>\\n  <script>(function(t){ (t.events = t.events || {})[\"csm_head_pre_'"
      ]
     },
     "execution_count": 2,
     "metadata": {},
     "output_type": "execute_result"
    }
   ],
   "source": [
    "url_get.content[1:500]"
   ]
  },
  {
   "cell_type": "markdown",
   "metadata": {},
   "source": [
    "As we can see we get a very unstructured and complex html, which actually contains the codes needed to show the webpages on your web browser. Here we will use beautifulsoup, which transforms a complex HTML document into a complex tree of Python objects. \n",
    "\n",
    "Let's make a Beautifulsoup object and explore the object here."
   ]
  },
  {
   "cell_type": "code",
   "execution_count": 3,
   "metadata": {
    "ExecuteTime": {
     "end_time": "2020-01-13T05:12:23.808122Z",
     "start_time": "2020-01-13T05:12:23.292610Z"
    }
   },
   "outputs": [],
   "source": [
    "from bs4 import BeautifulSoup \n",
    "\n",
    "soup = BeautifulSoup(url_get.content,\"html.parser\")"
   ]
  },
  {
   "cell_type": "markdown",
   "metadata": {},
   "source": [
    "## Finding the right key to scrap the data & Extracting the right information"
   ]
  },
  {
   "cell_type": "markdown",
   "metadata": {},
   "source": [
    "By inspecting the elements on the site, we know that the data we need is contained within a `div` with the `\"lister-list\"` class. \n",
    "Inside `\"lister-list\"` we have multiple `\"lister-item mode-advanced\"` class `div`, each containing the data for each separate films."
   ]
  },
  {
   "cell_type": "code",
   "execution_count": 4,
   "metadata": {
    "ExecuteTime": {
     "end_time": "2020-01-13T05:12:23.878904Z",
     "start_time": "2020-01-13T05:12:23.854974Z"
    }
   },
   "outputs": [
    {
     "name": "stdout",
     "output_type": "stream",
     "text": [
      "div class=\"lister-list\">\n",
      " <div class=\"lister-item mode-advanced\">\n",
      "  <div class=\"lister-top-right\">\n",
      "   <div class=\"ribbonize\" data-caller=\"filmosearch\" data-tconst=\"tt7144666\">\n",
      "   </div>\n",
      "  </div>\n",
      "  <div class=\"lister-item-image float-left\">\n",
      "   <a href=\"/title/tt7144666/\">\n",
      "    <img alt=\"The Black Phone\" class=\"loadlate\" data-tconst=\"tt7144666\" height=\"98\" loadlate=\"https://m.media-amazon.com/images/M/MV5BOWVmNTBiYTUtZWQ3Yi00ZDlhLTgyYjUtNzBhZjM3YjRiNGRkXkEyXkFqcGdeQXVyNzYyOTM1ODI@._V1_UX67_CR0,0,6\n"
     ]
    }
   ],
   "source": [
    "table = soup.find(class_ = 'lister-list')\n",
    "print(table.prettify()[1:500])"
   ]
  },
  {
   "cell_type": "markdown",
   "metadata": {},
   "source": [
    "We know that there are 50 movies we can pull. But by using `len` we can confirm that we have indeed pulled all 50 movies. Also we can assign this to a variable which will use later."
   ]
  },
  {
   "cell_type": "code",
   "execution_count": 5,
   "metadata": {
    "scrolled": true
   },
   "outputs": [
    {
     "data": {
      "text/plain": [
       "50"
      ]
     },
     "execution_count": 5,
     "metadata": {},
     "output_type": "execute_result"
    }
   ],
   "source": [
    "row = table.find_all(class_ = 'lister-item mode-advanced')\n",
    "row_length = len(row)\n",
    "row_length"
   ]
  },
  {
   "cell_type": "markdown",
   "metadata": {},
   "source": [
    "We are looking to extract 4 different data from the site. The title, rating, metascore, and votes.\n",
    "\n",
    "We can extract the title from a href attribute contained within the `'lister-item-header'` `div`. By using the loop function we will extract as many `'lister-item-header'` `div` as our row. And for each of this `div`, we will find the href attribute containing the word `'title'` which we need.\n",
    "\n",
    "The ratings and votes data can be extracted in similar fashion by finding the right container `div` class, and the attribute containing the data we need.\n",
    "\n",
    "Metascore can also be obtained the same way. But, since there are some films with no metascore we can use the if-else function to automatically set the empty values as `0`. "
   ]
  },
  {
   "cell_type": "code",
   "execution_count": 6,
   "metadata": {},
   "outputs": [],
   "source": [
    "import re"
   ]
  },
  {
   "cell_type": "code",
   "execution_count": 7,
   "metadata": {
    "ExecuteTime": {
     "end_time": "2020-01-13T05:12:24.008256Z",
     "start_time": "2020-01-13T05:12:23.980358Z"
    },
    "collapsed": true
   },
   "outputs": [
    {
     "data": {
      "text/plain": [
       "[('The Black Phone', '7.3', '65', '22948'),\n",
       " ('Only Murders in the Building', '8.1', 0, '73188'),\n",
       " ('Sing 2', '7.4', '49', '55260'),\n",
       " ('Spider-Man: No Way Home', '8.3', '71', '671887'),\n",
       " ('1883', '8.8', 0, '55950'),\n",
       " ('No Time to Die', '7.3', '68', '372398'),\n",
       " ('Superman & Lois', '7.8', 0, '30517'),\n",
       " ('Last Night in Soho', '7.1', '65', '112541'),\n",
       " ('Hacks', '8.2', 0, '25088'),\n",
       " ('Dune: Part One', '8.0', '74', '587494'),\n",
       " ('Ghostbusters: Afterlife', '7.1', '45', '161654'),\n",
       " ('Mad God', '6.8', '80', '4562'),\n",
       " ('The Book of Boba Fett', '7.3', 0, '133524'),\n",
       " (\"You Don't Know Me\", '6.9', 0, '3859'),\n",
       " ('WandaVision', '7.9', 0, '300959'),\n",
       " ('Pleasure', '6.3', '75', '12116'),\n",
       " ('Old', '5.8', '55', '109165'),\n",
       " ('Eternals', '6.3', '52', '317940'),\n",
       " ('Invincible', '8.7', 0, '120913'),\n",
       " ('House of Gucci', '6.6', '59', '110377'),\n",
       " ('Resident Evil: Welcome to Raccoon City', '5.2', '44', '46829'),\n",
       " ('Licorice Pizza', '7.3', '90', '88821'),\n",
       " ('Ojing-eo geim', '8.0', 0, '424730'),\n",
       " ('Verdens verste menneske', '7.9', '90', '50440'),\n",
       " ('Free Guy', '7.1', '62', '348521'),\n",
       " ('Encanto', '7.2', '75', '205135'),\n",
       " ('Yellowjackets', '7.9', 0, '40044'),\n",
       " ('Arcane: League of Legends', '9.0', 0, '184308'),\n",
       " ('Loki', '8.2', 0, '290850'),\n",
       " ('The Card Counter', '6.3', '77', '29108'),\n",
       " ('The Matrix Resurrections', '5.7', '63', '233997'),\n",
       " ('Operation Mincemeat', '6.6', '65', '17381'),\n",
       " ('Shang-Chi and the Legend of the Ten Rings', '7.4', '71', '360732'),\n",
       " (\"The King's Man\", '6.3', '44', '133232'),\n",
       " ('Marcel the Shell with Shoes On', '8.2', '81', '599'),\n",
       " (\"Don't Look Up\", '7.2', '49', '512014'),\n",
       " ('Walker', '5.9', 0, '11105'),\n",
       " ('The Outlaws', '7.6', 0, '8924'),\n",
       " ('The Suicide Squad', '7.2', '72', '334680'),\n",
       " ('The French Dispatch', '7.2', '74', '110587'),\n",
       " ('CODA', '8.0', '74', '116110'),\n",
       " ('Nightmare Alley', '7.0', '70', '129358'),\n",
       " ('Dopesick', '8.6', 0, '48840'),\n",
       " ('Joe Pickett', '7.5', 0, '1888'),\n",
       " ('The Last Duel', '7.4', '67', '144938'),\n",
       " ('Physical', '7.3', 0, '8210'),\n",
       " ('The Wheel of Time', '7.1', 0, '96773'),\n",
       " ('Red Notice', '6.3', '37', '262303'),\n",
       " ('Wrath of Man', '7.1', '57', '166499'),\n",
       " ('Venom: Let There Be Carnage', '5.9', '49', '209299')]"
      ]
     },
     "execution_count": 7,
     "metadata": {},
     "output_type": "execute_result"
    }
   ],
   "source": [
    "temp = [] #initiating a tuple\n",
    "\n",
    "for i in range(0, row_length):\n",
    "\n",
    "    title = table.find_all(class_ = 'lister-item-header')[i]\n",
    "    title = title.find(href=re.compile ('title')).text\n",
    "    rating = table.find_all(class_ = 'inline-block ratings-imdb-rating')[i]\n",
    "    rating = rating.find('strong').text\n",
    "    metascore = table.find_all(class_ = 'ratings-bar')[i]\n",
    "    metascore = metascore.find(class_ = 'inline-block ratings-metascore')\n",
    "    if metascore == None:\n",
    "        metascore = 0\n",
    "    else:\n",
    "        metascore = metascore.find('span').text.strip()\n",
    "    votes = table.find_all(class_ = 'sort-num_votes-visible')[i]\n",
    "    votes = votes.find_all('span')[1].text\n",
    "    votes = votes.replace(',','')\n",
    "    \n",
    "    temp.append((title, rating, metascore, votes))\n",
    "    \n",
    "temp"
   ]
  },
  {
   "cell_type": "markdown",
   "metadata": {},
   "source": [
    "## Creating data frame & Data wrangling"
   ]
  },
  {
   "cell_type": "markdown",
   "metadata": {},
   "source": [
    "Put the array into a dataframe"
   ]
  },
  {
   "cell_type": "code",
   "execution_count": 8,
   "metadata": {
    "ExecuteTime": {
     "end_time": "2020-01-13T05:12:41.517372Z",
     "start_time": "2020-01-13T05:12:29.130015Z"
    }
   },
   "outputs": [
    {
     "data": {
      "text/html": [
       "<div>\n",
       "<style scoped>\n",
       "    .dataframe tbody tr th:only-of-type {\n",
       "        vertical-align: middle;\n",
       "    }\n",
       "\n",
       "    .dataframe tbody tr th {\n",
       "        vertical-align: top;\n",
       "    }\n",
       "\n",
       "    .dataframe thead th {\n",
       "        text-align: right;\n",
       "    }\n",
       "</style>\n",
       "<table border=\"1\" class=\"dataframe\">\n",
       "  <thead>\n",
       "    <tr style=\"text-align: right;\">\n",
       "      <th></th>\n",
       "      <th>Title</th>\n",
       "      <th>Ratings</th>\n",
       "      <th>Metascore</th>\n",
       "      <th>Votes</th>\n",
       "    </tr>\n",
       "  </thead>\n",
       "  <tbody>\n",
       "    <tr>\n",
       "      <th>0</th>\n",
       "      <td>The Black Phone</td>\n",
       "      <td>7.3</td>\n",
       "      <td>65</td>\n",
       "      <td>22948</td>\n",
       "    </tr>\n",
       "    <tr>\n",
       "      <th>1</th>\n",
       "      <td>Only Murders in the Building</td>\n",
       "      <td>8.1</td>\n",
       "      <td>0</td>\n",
       "      <td>73188</td>\n",
       "    </tr>\n",
       "    <tr>\n",
       "      <th>2</th>\n",
       "      <td>Sing 2</td>\n",
       "      <td>7.4</td>\n",
       "      <td>49</td>\n",
       "      <td>55260</td>\n",
       "    </tr>\n",
       "    <tr>\n",
       "      <th>3</th>\n",
       "      <td>Spider-Man: No Way Home</td>\n",
       "      <td>8.3</td>\n",
       "      <td>71</td>\n",
       "      <td>671887</td>\n",
       "    </tr>\n",
       "    <tr>\n",
       "      <th>4</th>\n",
       "      <td>1883</td>\n",
       "      <td>8.8</td>\n",
       "      <td>0</td>\n",
       "      <td>55950</td>\n",
       "    </tr>\n",
       "  </tbody>\n",
       "</table>\n",
       "</div>"
      ],
      "text/plain": [
       "                          Title Ratings Metascore   Votes\n",
       "0               The Black Phone     7.3        65   22948\n",
       "1  Only Murders in the Building     8.1         0   73188\n",
       "2                        Sing 2     7.4        49   55260\n",
       "3       Spider-Man: No Way Home     8.3        71  671887\n",
       "4                          1883     8.8         0   55950"
      ]
     },
     "execution_count": 8,
     "metadata": {},
     "output_type": "execute_result"
    }
   ],
   "source": [
    "import pandas as pd\n",
    "\n",
    "df = pd.DataFrame(temp, columns = ('Title', 'Ratings', 'Metascore', 'Votes'))\n",
    "df.head()"
   ]
  },
  {
   "cell_type": "markdown",
   "metadata": {},
   "source": [
    "As a precaution, first we'll check for any missing values"
   ]
  },
  {
   "cell_type": "code",
   "execution_count": 9,
   "metadata": {},
   "outputs": [
    {
     "data": {
      "text/plain": [
       "Title        0\n",
       "Ratings      0\n",
       "Metascore    0\n",
       "Votes        0\n",
       "dtype: int64"
      ]
     },
     "execution_count": 9,
     "metadata": {},
     "output_type": "execute_result"
    }
   ],
   "source": [
    "df.isna().sum()"
   ]
  },
  {
   "cell_type": "markdown",
   "metadata": {},
   "source": [
    "Since there are no missing values, we can continue with the data types and make adjustments where necessary"
   ]
  },
  {
   "cell_type": "code",
   "execution_count": 10,
   "metadata": {},
   "outputs": [
    {
     "data": {
      "text/plain": [
       "Title        object\n",
       "Ratings      object\n",
       "Metascore    object\n",
       "Votes        object\n",
       "dtype: object"
      ]
     },
     "execution_count": 10,
     "metadata": {},
     "output_type": "execute_result"
    }
   ],
   "source": [
    "df.dtypes"
   ]
  },
  {
   "cell_type": "code",
   "execution_count": 11,
   "metadata": {
    "ExecuteTime": {
     "end_time": "2020-01-13T05:12:59.165559Z",
     "start_time": "2020-01-13T05:12:58.910012Z"
    }
   },
   "outputs": [],
   "source": [
    "df['Ratings'] = df['Ratings'].astype('float')\n",
    "df[['Metascore', 'Votes']] = df[['Metascore', 'Votes']].astype('int64')"
   ]
  },
  {
   "cell_type": "code",
   "execution_count": 12,
   "metadata": {},
   "outputs": [
    {
     "data": {
      "text/plain": [
       "Title         object\n",
       "Ratings      float64\n",
       "Metascore      int64\n",
       "Votes          int64\n",
       "dtype: object"
      ]
     },
     "execution_count": 12,
     "metadata": {},
     "output_type": "execute_result"
    }
   ],
   "source": [
    "df.dtypes"
   ]
  },
  {
   "cell_type": "markdown",
   "metadata": {},
   "source": [
    "Next we'll change the index to the title to help with visualization "
   ]
  },
  {
   "cell_type": "code",
   "execution_count": 13,
   "metadata": {},
   "outputs": [],
   "source": [
    "df = df.set_index('Title')"
   ]
  },
  {
   "cell_type": "markdown",
   "metadata": {},
   "source": [
    "### Implementing your webscrapping to the flask dashboard\n",
    "\n",
    "- Copy paste all of your web scrapping process to the desired position on the `app.py`\n",
    "- Changing the title of the dasboard at `index.html`"
   ]
  },
  {
   "cell_type": "markdown",
   "metadata": {},
   "source": [
    "## Finishing This Notebook with Your Analysis and Conclusion"
   ]
  },
  {
   "cell_type": "markdown",
   "metadata": {},
   "source": [
    "Now, we will visualize the data using bar plots. We can then see the 7 highest rated films of 2021:\n",
    "- Arcane: League of Legends\n",
    "- 1883\n",
    "- Invincible\n",
    "- Dopesick\n",
    "- Spiderman: No Way Home\n",
    "- Loki\n",
    "- Marcel the Shell with Shoes On"
   ]
  },
  {
   "cell_type": "code",
   "execution_count": 14,
   "metadata": {},
   "outputs": [
    {
     "data": {
      "text/plain": [
       "<AxesSubplot:title={'center':'Top 7 Highest Rated Films of 2021'}, xlabel='Title', ylabel='Rating'>"
      ]
     },
     "execution_count": 14,
     "metadata": {},
     "output_type": "execute_result"
    },
    {
     "data": {
      "image/png": "[encoded data removed]",
      "text/plain": [
       "<Figure size 432x288 with 1 Axes>"
      ]
     },
     "metadata": {
      "needs_background": "light"
     },
     "output_type": "display_data"
    }
   ],
   "source": [
    "df['Ratings'].sort_values(ascending = False).head(7).plot.bar(title = 'Top 7 Highest Rated Films of 2021',\n",
    "                              ylabel = 'Rating')"
   ]
  },
  {
   "cell_type": "markdown",
   "metadata": {},
   "source": [
    "We can also see the 7 films with the highest votes in 2021:\n",
    "- Spiderman: No Way Home\n",
    "- Dune: Part One\n",
    "- Don't Look Up\n",
    "- Ojing-eo geim\n",
    "- No Time to Die\n",
    "- Shang-Chi\n",
    "- Free Guy"
   ]
  },
  {
   "cell_type": "code",
   "execution_count": 15,
   "metadata": {},
   "outputs": [
    {
     "data": {
      "text/plain": [
       "<AxesSubplot:title={'center':'Top 7 Highest Voted Films of 2021'}, xlabel='Title', ylabel='Votes'>"
      ]
     },
     "execution_count": 15,
     "metadata": {},
     "output_type": "execute_result"
    },
    {
     "data": {
      "image/png": "[encoded data removed]",
      "text/plain": [
       "<Figure size 432x288 with 1 Axes>"
      ]
     },
     "metadata": {
      "needs_background": "light"
     },
     "output_type": "display_data"
    }
   ],
   "source": [
    "df['Votes'].sort_values(ascending = False).head(7).plot.bar(title = 'Top 7 Highest Voted Films of 2021',\n",
    "                              ylabel = 'Votes')"
   ]
  },
  {
   "cell_type": "markdown",
   "metadata": {},
   "source": [
    "Interestingly, only Spiderman: No Way Home is both highly rated and also the highest voted. "
   ]
  },
  {
   "cell_type": "markdown",
   "metadata": {},
   "source": [
    "Finally, we can see if there is any correlation between the two variables. Does number of votes impact ratings and vice versa?"
   ]
  },
  {
   "cell_type": "code",
   "execution_count": 19,
   "metadata": {
    "scrolled": true
   },
   "outputs": [
    {
     "data": {
      "text/plain": [
       "<AxesSubplot:title={'center':'Votes Received vs Ratings'}, xlabel='Votes', ylabel='Ratings'>"
      ]
     },
     "execution_count": 19,
     "metadata": {},
     "output_type": "execute_result"
    },
    {
     "data": {
      "image/png": "[encoded data removed]",
      "text/plain": [
       "<Figure size 432x288 with 1 Axes>"
      ]
     },
     "metadata": {
      "needs_background": "light"
     },
     "output_type": "display_data"
    }
   ],
   "source": [
    "df.plot.scatter(title = 'Votes Received vs Ratings', x = 'Votes', y = 'Ratings')"
   ]
  },
  {
   "cell_type": "markdown",
   "metadata": {},
   "source": [
    " From the scatterplot graph above, we can see that there are no correlation between votes and ratings"
   ]
  },
  {
   "cell_type": "markdown",
   "metadata": {},
   "source": [
    "### Extra Challange\n",
    "\n",
    "This will be not included to the scoring. \n",
    "\n",
    "- You can create additional analysis from the data.\n",
    "- Implement it to the dashboard with at `app.py` dan `index.html`."
   ]
  }
 ],
 "metadata": {
  "kernelspec": {
   "display_name": "capstone_da",
   "language": "python",
   "name": "capstone_da"
  },
  "language_info": {
   "codemirror_mode": {
    "name": "ipython",
    "version": 3
   },
   "file_extension": ".py",
   "mimetype": "text/x-python",
   "name": "python",
   "nbconvert_exporter": "python",
   "pygments_lexer": "ipython3",
   "version": "3.8.13"
  }
 },
 "nbformat": 4,
 "nbformat_minor": 2
}
